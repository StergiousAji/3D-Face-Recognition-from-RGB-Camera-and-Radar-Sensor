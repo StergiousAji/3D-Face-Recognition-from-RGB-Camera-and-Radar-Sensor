{
 "cells": [
  {
   "cell_type": "code",
   "execution_count": 5,
   "metadata": {},
   "outputs": [],
   "source": [
    "import numpy as np\n",
    "import json\n",
    "import cv2\n",
    "import matplotlib.pyplot as plt\n",
    "from examples.src.radar_utils import get_crd_data, plot_crd_data, plot_abs_data\n",
    "\n",
    "depth_scale = 0.0002500000118743628\n",
    "images = (np.load(\"data/images.npy\") / depth_scale).astype(int)\n",
    "image_timestamps = np.load(\"data/image_timestamps.npy\")\n",
    "with open(\"data/radar.json\", \"r\") as radar_json:\n",
    "    radar = json.load(radar_json)"
   ]
  },
  {
   "cell_type": "code",
   "execution_count": 12,
   "metadata": {},
   "outputs": [
    {
     "name": "stdout",
     "output_type": "stream",
     "text": [
      "(251, 3, 32, 16)\n"
     ]
    }
   ],
   "source": [
    "# plt.imshow(images[90])\n",
    "crd_data = get_crd_data(radar, num_chirps_per_burst=16)\n",
    "abs_data = np.abs(crd_data)\n",
    "# print(abs_data)\n",
    "print(abs_data.shape)\n",
    "# plot_crd_data(crd_data)"
   ]
  }
 ],
 "metadata": {
  "kernelspec": {
   "display_name": "3dfr",
   "language": "python",
   "name": "python3"
  },
  "language_info": {
   "codemirror_mode": {
    "name": "ipython",
    "version": 3
   },
   "file_extension": ".py",
   "mimetype": "text/x-python",
   "name": "python",
   "nbconvert_exporter": "python",
   "pygments_lexer": "ipython3",
   "version": "3.9.2"
  }
 },
 "nbformat": 4,
 "nbformat_minor": 2
}
